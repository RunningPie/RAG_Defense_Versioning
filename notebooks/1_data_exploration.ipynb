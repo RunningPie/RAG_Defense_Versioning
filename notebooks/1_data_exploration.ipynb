{
 "cells": [
  {
   "cell_type": "markdown",
   "metadata": {},
   "source": [
    "# Notebook 1: Data Exploration and Popularity Analysis\n",
    "\n",
    "**Objective:** To explore the MovieLens dataset, understand its structure, and define a clear metric for movie popularity. This analysis will inform the selection of 'popular' targets and 'unpopular' neighbors for our attack simulation."
   ]
  },
  {
   "cell_type": "markdown",
   "metadata": {},
   "source": [
    "### Step 1: Import Libraries and Load Data"
   ]
  },
  {
   "cell_type": "code",
   "execution_count": 1,
   "metadata": {},
   "outputs": [],
   "source": [
    "import pandas as pd\n",
    "import numpy as np\n",
    "import matplotlib.pyplot as plt\n",
    "import seaborn as sns\n",
    "import os\n",
    "\n",
    "# Set plot style\n",
    "sns.set_style(\"whitegrid\")\n",
    "plt.rcParams['figure.figsize'] = (12, 6)"
   ]
  },
  {
   "cell_type": "code",
   "execution_count": 2,
   "metadata": {},
   "outputs": [
    {
     "name": "stdout",
     "output_type": "stream",
     "text": [
      "Movies DataFrame Info:\n",
      "<class 'pandas.core.frame.DataFrame'>\n",
      "RangeIndex: 999 entries, 0 to 998\n",
      "Data columns (total 3 columns):\n",
      " #   Column   Non-Null Count  Dtype \n",
      "---  ------   --------------  ----- \n",
      " 0   movieId  999 non-null    int64 \n",
      " 1   title    999 non-null    object\n",
      " 2   genres   999 non-null    object\n",
      "dtypes: int64(1), object(2)\n",
      "memory usage: 23.5+ KB\n",
      "\n",
      "Ratings DataFrame Info:\n",
      "<class 'pandas.core.frame.DataFrame'>\n",
      "RangeIndex: 100836 entries, 0 to 100835\n",
      "Data columns (total 4 columns):\n",
      " #   Column     Non-Null Count   Dtype  \n",
      "---  ------     --------------   -----  \n",
      " 0   userId     100836 non-null  int64  \n",
      " 1   movieId    100836 non-null  int64  \n",
      " 2   rating     100836 non-null  float64\n",
      " 3   timestamp  100836 non-null  int64  \n",
      "dtypes: float64(1), int64(3)\n",
      "memory usage: 3.1 MB\n"
     ]
    }
   ],
   "source": [
    "# Define file paths relative to the project root\n",
    "RAW_DATA_DIR = '../data/raw/'\n",
    "MOVIES_PATH = os.path.join(RAW_DATA_DIR, 'movies.csv')\n",
    "RATINGS_PATH = os.path.join(RAW_DATA_DIR, 'ratings.csv')\n",
    "\n",
    "# Load the datasets\n",
    "movies_df = pd.read_csv(MOVIES_PATH)\n",
    "ratings_df = pd.read_csv(RATINGS_PATH)\n",
    "\n",
    "print(\"Movies DataFrame Info:\")\n",
    "movies_df.info()\n",
    "print(\"\\nRatings DataFrame Info:\")\n",
    "ratings_df.info()"
   ]
  },
  {
   "cell_type": "markdown",
   "metadata": {},
   "source": [
    "### Step 2: Calculate Movie Popularity\n",
    "\n",
    "We will define a movie's popularity based on the number of ratings it has received. A higher number of ratings indicates a more popular, \"short-head\" item."
   ]
  },
  {
   "cell_type": "code",
   "execution_count": 3,
   "metadata": {},
   "outputs": [
    {
     "name": "stdout",
     "output_type": "stream",
     "text": [
      "Top 10 Most Popular Movies:\n"
     ]
    },
    {
     "data": {
      "text/html": [
       "<div>\n",
       "<style scoped>\n",
       "    .dataframe tbody tr th:only-of-type {\n",
       "        vertical-align: middle;\n",
       "    }\n",
       "\n",
       "    .dataframe tbody tr th {\n",
       "        vertical-align: top;\n",
       "    }\n",
       "\n",
       "    .dataframe thead th {\n",
       "        text-align: right;\n",
       "    }\n",
       "</style>\n",
       "<table border=\"1\" class=\"dataframe\">\n",
       "  <thead>\n",
       "    <tr style=\"text-align: right;\">\n",
       "      <th></th>\n",
       "      <th>movieId</th>\n",
       "      <th>title</th>\n",
       "      <th>genres</th>\n",
       "      <th>rating_count</th>\n",
       "    </tr>\n",
       "  </thead>\n",
       "  <tbody>\n",
       "    <tr>\n",
       "      <th>314</th>\n",
       "      <td>356</td>\n",
       "      <td>Forrest Gump (1994)</td>\n",
       "      <td>Comedy|Drama|Romance|War</td>\n",
       "      <td>329.0</td>\n",
       "    </tr>\n",
       "    <tr>\n",
       "      <th>277</th>\n",
       "      <td>318</td>\n",
       "      <td>Shawshank Redemption, The (1994)</td>\n",
       "      <td>Crime|Drama</td>\n",
       "      <td>317.0</td>\n",
       "    </tr>\n",
       "    <tr>\n",
       "      <th>257</th>\n",
       "      <td>296</td>\n",
       "      <td>Pulp Fiction (1994)</td>\n",
       "      <td>Comedy|Crime|Drama|Thriller</td>\n",
       "      <td>307.0</td>\n",
       "    </tr>\n",
       "    <tr>\n",
       "      <th>510</th>\n",
       "      <td>593</td>\n",
       "      <td>Silence of the Lambs, The (1991)</td>\n",
       "      <td>Crime|Horror|Thriller</td>\n",
       "      <td>279.0</td>\n",
       "    </tr>\n",
       "    <tr>\n",
       "      <th>224</th>\n",
       "      <td>260</td>\n",
       "      <td>Star Wars: Episode IV - A New Hope (1977)</td>\n",
       "      <td>Action|Adventure|Sci-Fi</td>\n",
       "      <td>251.0</td>\n",
       "    </tr>\n",
       "    <tr>\n",
       "      <th>418</th>\n",
       "      <td>480</td>\n",
       "      <td>Jurassic Park (1993)</td>\n",
       "      <td>Action|Adventure|Sci-Fi|Thriller</td>\n",
       "      <td>238.0</td>\n",
       "    </tr>\n",
       "    <tr>\n",
       "      <th>97</th>\n",
       "      <td>110</td>\n",
       "      <td>Braveheart (1995)</td>\n",
       "      <td>Action|Drama|War</td>\n",
       "      <td>237.0</td>\n",
       "    </tr>\n",
       "    <tr>\n",
       "      <th>507</th>\n",
       "      <td>589</td>\n",
       "      <td>Terminator 2: Judgment Day (1991)</td>\n",
       "      <td>Action|Sci-Fi</td>\n",
       "      <td>224.0</td>\n",
       "    </tr>\n",
       "    <tr>\n",
       "      <th>461</th>\n",
       "      <td>527</td>\n",
       "      <td>Schindler's List (1993)</td>\n",
       "      <td>Drama|War</td>\n",
       "      <td>220.0</td>\n",
       "    </tr>\n",
       "    <tr>\n",
       "      <th>0</th>\n",
       "      <td>1</td>\n",
       "      <td>Toy Story (1995)</td>\n",
       "      <td>Adventure|Animation|Children|Comedy|Fantasy</td>\n",
       "      <td>215.0</td>\n",
       "    </tr>\n",
       "  </tbody>\n",
       "</table>\n",
       "</div>"
      ],
      "text/plain": [
       "     movieId                                      title  \\\n",
       "314      356                        Forrest Gump (1994)   \n",
       "277      318           Shawshank Redemption, The (1994)   \n",
       "257      296                        Pulp Fiction (1994)   \n",
       "510      593           Silence of the Lambs, The (1991)   \n",
       "224      260  Star Wars: Episode IV - A New Hope (1977)   \n",
       "418      480                       Jurassic Park (1993)   \n",
       "97       110                          Braveheart (1995)   \n",
       "507      589          Terminator 2: Judgment Day (1991)   \n",
       "461      527                    Schindler's List (1993)   \n",
       "0          1                           Toy Story (1995)   \n",
       "\n",
       "                                          genres  rating_count  \n",
       "314                     Comedy|Drama|Romance|War         329.0  \n",
       "277                                  Crime|Drama         317.0  \n",
       "257                  Comedy|Crime|Drama|Thriller         307.0  \n",
       "510                        Crime|Horror|Thriller         279.0  \n",
       "224                      Action|Adventure|Sci-Fi         251.0  \n",
       "418             Action|Adventure|Sci-Fi|Thriller         238.0  \n",
       "97                              Action|Drama|War         237.0  \n",
       "507                                Action|Sci-Fi         224.0  \n",
       "461                                    Drama|War         220.0  \n",
       "0    Adventure|Animation|Children|Comedy|Fantasy         215.0  "
      ]
     },
     "metadata": {},
     "output_type": "display_data"
    }
   ],
   "source": [
    "popularity_counts = ratings_df['movieId'].value_counts().reset_index()\n",
    "popularity_counts.columns = ['movieId', 'rating_count']\n",
    "\n",
    "# Merge with the movies dataframe to get titles\n",
    "movie_popularity_df = pd.merge(movies_df, popularity_counts, on='movieId', how='left')\n",
    "\n",
    "# Fill movies with no ratings with a count of 0\n",
    "movie_popularity_df['rating_count'] = movie_popularity_df['rating_count'].fillna(0)\n",
    "\n",
    "movie_popularity_df = movie_popularity_df.sort_values(by='rating_count', ascending=False)\n",
    "\n",
    "print(\"Top 10 Most Popular Movies:\")\n",
    "display(movie_popularity_df.head(10))"
   ]
  },
  {
   "cell_type": "markdown",
   "metadata": {},
   "source": [
    "### Step 3: Visualize Popularity Distribution\n",
    "\n",
    "A plot will help us understand the long-tail nature of the data. Most movies have very few ratings, while a small number of movies are extremely popular."
   ]
  },
  {
   "cell_type": "code",
   "execution_count": 4,
   "metadata": {},
   "outputs": [
    {
     "data": {
      "image/png": "[encoded data removed]",
      "text/plain": [
       "<Figure size 1500x700 with 1 Axes>"
      ]
     },
     "metadata": {},
     "output_type": "display_data"
    }
   ],
   "source": [
    "plt.figure(figsize=(15, 7))\n",
    "sns.histplot(movie_popularity_df['rating_count'], bins=100, kde=False)\n",
    "plt.title('Distribution of Rating Counts per Movie')\n",
    "plt.xlabel('Number of Ratings')\n",
    "plt.ylabel('Number of Movies')\n",
    "plt.yscale('log') # Use a log scale on the y-axis to see the distribution more clearly\n",
    "plt.show()"
   ]
  },
  {
   "cell_type": "markdown",
   "metadata": {},
   "source": [
    "The log-scale plot clearly shows a long-tail distribution. A vast number of movies have fewer than 10 ratings, while a few blockbusters have over 300."
   ]
  },
  {
   "cell_type": "markdown",
   "metadata": {},
   "source": [
    "### Step 4: Define Popularity Tiers\n",
    "\n",
    "Let's use percentiles to formally define our popularity tiers. This is the same logic that will be used in our defense script to identify unpopular items."
   ]
  },
  {
   "cell_type": "code",
   "execution_count": 5,
   "metadata": {},
   "outputs": [
    {
     "name": "stdout",
     "output_type": "stream",
     "text": [
      "Popularity Distribution Percentiles:\n",
      "count    999.000000\n",
      "mean      29.649650\n",
      "std       45.036429\n",
      "min        0.000000\n",
      "20%        3.000000\n",
      "50%       12.000000\n",
      "80%       43.000000\n",
      "95%      128.100000\n",
      "max      329.000000\n",
      "Name: rating_count, dtype: float64\n"
     ]
    }
   ],
   "source": [
    "pop_describe = movie_popularity_df['rating_count'].describe(percentiles=[.20, .50, .80, .95])\n",
    "print(\"Popularity Distribution Percentiles:\")\n",
    "print(pop_describe)"
   ]
  },
  {
   "cell_type": "markdown",
   "metadata": {},
   "source": [
    "**Analysis and Conclusion:**\n",
    "\n",
    "- **Unpopular (Bottom 20%):** Movies with just 3 rating.\n",
    "- **Median (50%):** Half of the movies have 12 or fewer ratings.\n",
    "- **Popular (Top 5%):** Movies with 128 or more ratings are in the top 5%.\n",
    "\n",
    "This confirms our strategy for the attack script: we will target movies from the top of this list (e.g., those with >50 ratings) and borrow content from movies at the very bottom (e.g., those with only 1-2 ratings). Our defense will use a percentile-based threshold (e.g., 20th percentile) to define the 'unpopular neighbor' set."
   ]
  },
  {
   "cell_type": "markdown",
   "metadata": {},
   "source": []
  }
 ],
 "metadata": {
  "kernelspec": {
   "display_name": "venv",
   "language": "python",
   "name": "python3"
  },
  "language_info": {
   "codemirror_mode": {
    "name": "ipython",
    "version": 3
   },
   "file_extension": ".py",
   "mimetype": "text/x-python",
   "name": "python",
   "nbconvert_exporter": "python",
   "pygments_lexer": "ipython3",
   "version": "3.12.6"
  }
 },
 "nbformat": 4,
 "nbformat_minor": 2
}
